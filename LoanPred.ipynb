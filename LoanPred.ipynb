{
 "cells": [
  {
   "cell_type": "markdown",
   "metadata": {},
   "source": [
    "# Assignment 3\n",
    "\n",
    "### Raymundo Gonzalez Leal"
   ]
  },
  {
   "cell_type": "markdown",
   "metadata": {},
   "source": [
    "We want a tool that can tell us the maximum loan amount a given person can request while still having large opportunities of being approved. In order to achieve this, I will make a classifier that tells us whether a specific request (with a loan amount and other variables) would get approved or not, based on previous data. Finally, I will create a function that uses this classifier to greedily look for the largest loan amount that it can find and that results in an \"approved\" classification."
   ]
  },
  {
   "cell_type": "code",
   "execution_count": 2,
   "metadata": {
    "collapsed": true
   },
   "outputs": [],
   "source": [
    "import pandas as pd\n",
    "import numpy as np\n",
    "import matplotlib.pyplot as plt\n",
    "from sklearn_pandas import DataFrameMapper\n",
    "from sklearn.ensemble import RandomForestClassifier\n",
    "from sklearn.model_selection import train_test_split\n",
    "from sklearn import metrics\n",
    "from imblearn.over_sampling import SMOTE\n",
    "from sklearn import svm\n",
    "from sklearn.neural_network import MLPClassifier\n",
    "from sklearn.ensemble import VotingClassifier\n",
    "from sklearn.linear_model import LogisticRegression"
   ]
  },
  {
   "cell_type": "markdown",
   "metadata": {},
   "source": [
    "## Data Prep\n",
    "\n",
    "The first step was to decide which variables we could use. I manually deleted all the columns in the successful loan requests data set that did not appear in the rejected applications set (many of them was data regarding how the loan is being paid). Similarly, I removed the \"Risk Score\" and \"policy code\" columns from the rejected data set, as we don't have this variable in our successful loan applications. Including variables that are present in one of our sets and not the other would hinder our model, as the easiest way to make good predictions to wheter a loan is successful or not would be to check if there is some value for one of those variables (and hence this model would never learn the relationship between requested amount and chances of rejection).\n",
    "\n",
    "After quick inspection, we see that most of the approved loans were completely funded (loan_amnt and funded_amnt are almost always the same). For simplicity, we will remove the funded_amnt variable, and assume that all approved loans were completely funded. I also removed information regarding the zip code and the date of the loan. Regarding date, I am using only the loans that were requested in the second quarter of 2017. The reason to use the most recent data, is so that inference is more valid for someone who requests a loan now (loan approval behavior by the company can change across time)."
   ]
  },
  {
   "cell_type": "code",
   "execution_count": 4,
   "metadata": {
    "collapsed": false,
    "scrolled": true
   },
   "outputs": [
    {
     "data": {
      "text/html": [
       "<div>\n",
       "<table border=\"1\" class=\"dataframe\">\n",
       "  <thead>\n",
       "    <tr style=\"text-align: right;\">\n",
       "      <th></th>\n",
       "      <th>loan_amnt</th>\n",
       "      <th>emp_length</th>\n",
       "      <th>addr_state</th>\n",
       "      <th>dti</th>\n",
       "      <th>approved</th>\n",
       "    </tr>\n",
       "  </thead>\n",
       "  <tbody>\n",
       "    <tr>\n",
       "      <th>1</th>\n",
       "      <td>8000</td>\n",
       "      <td>9 years</td>\n",
       "      <td>NJ</td>\n",
       "      <td>31.58</td>\n",
       "      <td>1</td>\n",
       "    </tr>\n",
       "    <tr>\n",
       "      <th>2</th>\n",
       "      <td>26000</td>\n",
       "      <td>7 years</td>\n",
       "      <td>DE</td>\n",
       "      <td>12.19</td>\n",
       "      <td>1</td>\n",
       "    </tr>\n",
       "    <tr>\n",
       "      <th>3</th>\n",
       "      <td>12000</td>\n",
       "      <td>3 years</td>\n",
       "      <td>CA</td>\n",
       "      <td>20.81</td>\n",
       "      <td>1</td>\n",
       "    </tr>\n",
       "    <tr>\n",
       "      <th>4</th>\n",
       "      <td>15000</td>\n",
       "      <td>1 year</td>\n",
       "      <td>TN</td>\n",
       "      <td>29.92</td>\n",
       "      <td>1</td>\n",
       "    </tr>\n",
       "    <tr>\n",
       "      <th>5</th>\n",
       "      <td>6000</td>\n",
       "      <td>2 years</td>\n",
       "      <td>TX</td>\n",
       "      <td>30.71</td>\n",
       "      <td>1</td>\n",
       "    </tr>\n",
       "  </tbody>\n",
       "</table>\n",
       "</div>"
      ],
      "text/plain": [
       "   loan_amnt emp_length addr_state    dti  approved\n",
       "1       8000    9 years         NJ  31.58         1\n",
       "2      26000    7 years         DE  12.19         1\n",
       "3      12000    3 years         CA  20.81         1\n",
       "4      15000     1 year         TN  29.92         1\n",
       "5       6000    2 years         TX  30.71         1"
      ]
     },
     "execution_count": 4,
     "metadata": {},
     "output_type": "execute_result"
    }
   ],
   "source": [
    "dataS = pd.read_csv('LoanStats_2017Q2.csv', sep=\",\")\n",
    "dataS.columns = [\"loan_amnt\", \"emp_length\", \"addr_state\", \"dti\"]\n",
    "dfS = pd.DataFrame(dataS)\n",
    "dfS = dfS.drop(dfS.index[0])\n",
    "\n",
    "#Get rid of instances without loan_amnt data\n",
    "dfS = dfS.dropna(axis=0)\n",
    "\n",
    "#Turning dti into a float\n",
    "NewDti = []\n",
    "for i in dfS['dti']:\n",
    "    thisDti = float(i)\n",
    "    NewDti.append(thisDti)\n",
    "dfS['dti'] = NewDti\n",
    "\n",
    "\n",
    "#Adding \"approved\" colum\n",
    "dfS['approved'] = [1 for i in range(len(dfS['loan_amnt']))]\n",
    "\n",
    "\n",
    "\n",
    "dfS.head()"
   ]
  },
  {
   "cell_type": "markdown",
   "metadata": {},
   "source": [
    "I manually modified the column order and names of the Rejected data set, so they match our Approved set."
   ]
  },
  {
   "cell_type": "code",
   "execution_count": null,
   "metadata": {
    "collapsed": true
   },
   "outputs": [],
   "source": [
    "dataR = pd.read_csv('RejectStats_2017Q2.csv', sep=\",\", header=None)\n",
    "dataR.columns = [\"loan_amnt\", \"emp_length\", \"addr_state\", \"dti\"]\n",
    "dfR = pd.DataFrame(dataR)\n",
    "dfR = dfR.drop(dfR.index[0])\n",
    "\n",
    "#Get rid of instances without loan_amnt data\n",
    "dfR = dfR.dropna(axis=0)\n",
    "\n",
    "#Turning dti into a float\n",
    "NewDti = []\n",
    "for i in dfR['dti']:\n",
    "    thisDti = float(i[:-1])\n",
    "    NewDti.append(thisDti)\n",
    "dfR['dti'] = NewDti\n",
    "\n",
    "#Adding \"approved\" colum\n",
    "dfR['approved'] = [0 for i in range(len(dfR['loan_amnt']))]\n",
    "\n",
    "dfR.head()"
   ]
  },
  {
   "cell_type": "code",
   "execution_count": 13,
   "metadata": {
    "collapsed": false,
    "scrolled": false
   },
   "outputs": [
    {
     "data": {
      "text/html": [
       "<div>\n",
       "<table border=\"1\" class=\"dataframe\">\n",
       "  <thead>\n",
       "    <tr style=\"text-align: right;\">\n",
       "      <th></th>\n",
       "      <th>loan_amnt</th>\n",
       "      <th>emp_length</th>\n",
       "      <th>addr_state</th>\n",
       "      <th>dti</th>\n",
       "      <th>approved</th>\n",
       "    </tr>\n",
       "  </thead>\n",
       "  <tbody>\n",
       "    <tr>\n",
       "      <th>1</th>\n",
       "      <td>8000</td>\n",
       "      <td>9.0</td>\n",
       "      <td>NJ</td>\n",
       "      <td>31.58</td>\n",
       "      <td>1</td>\n",
       "    </tr>\n",
       "    <tr>\n",
       "      <th>2</th>\n",
       "      <td>26000</td>\n",
       "      <td>7.0</td>\n",
       "      <td>DE</td>\n",
       "      <td>12.19</td>\n",
       "      <td>1</td>\n",
       "    </tr>\n",
       "    <tr>\n",
       "      <th>3</th>\n",
       "      <td>12000</td>\n",
       "      <td>3.0</td>\n",
       "      <td>CA</td>\n",
       "      <td>20.81</td>\n",
       "      <td>1</td>\n",
       "    </tr>\n",
       "    <tr>\n",
       "      <th>4</th>\n",
       "      <td>15000</td>\n",
       "      <td>1.0</td>\n",
       "      <td>TN</td>\n",
       "      <td>29.92</td>\n",
       "      <td>1</td>\n",
       "    </tr>\n",
       "    <tr>\n",
       "      <th>5</th>\n",
       "      <td>6000</td>\n",
       "      <td>2.0</td>\n",
       "      <td>TX</td>\n",
       "      <td>30.71</td>\n",
       "      <td>1</td>\n",
       "    </tr>\n",
       "  </tbody>\n",
       "</table>\n",
       "</div>"
      ],
      "text/plain": [
       "  loan_amnt  emp_length addr_state    dti  approved\n",
       "1      8000         9.0         NJ  31.58         1\n",
       "2     26000         7.0         DE  12.19         1\n",
       "3     12000         3.0         CA  20.81         1\n",
       "4     15000         1.0         TN  29.92         1\n",
       "5      6000         2.0         TX  30.71         1"
      ]
     },
     "execution_count": 13,
     "metadata": {},
     "output_type": "execute_result"
    }
   ],
   "source": [
    "## Make combined data frame.\n",
    "df = pd.concat([dfS,dfR])\n",
    "\n",
    "\n",
    "##Changing emp_length format\n",
    "empt_length_dict = {'< 1 year': 0.5,\n",
    "                    '1 year': 1,\n",
    "                    '2 years': 2,\n",
    "                    '3 years': 3,\n",
    "                    '4 years': 4,\n",
    "                    '5 years': 5,\n",
    "                    '6 years': 6,\n",
    "                    '7 years': 7,\n",
    "                    '8 years': 8,\n",
    "                    '9 years': 9,\n",
    "                    '10 years': 10,\n",
    "                    '10+ years': 15,\n",
    "                    'n/a': None \n",
    "                   }\n",
    "\n",
    "\n",
    "\n",
    "df[\"emp_length\"].replace(empt_length_dict, inplace=True)\n",
    "df.head()\n"
   ]
  },
  {
   "cell_type": "markdown",
   "metadata": {},
   "source": [
    "## Visualizing the Data\n",
    "\n",
    "A good rule of thumb when we try to gain intuitions on relationships between data, is to plot it. We want to understand how the requested loan amount is related to the probabilities of getting the loan approved. Our objective is to see how high we can make our request while still having the loan approved. An implicit assumption here is that the higher the loan requested, the less likely it is to be approved. Let's see if this is an observable pattern."
   ]
  },
  {
   "cell_type": "markdown",
   "metadata": {},
   "source": [
    "Now we'll see a histogram of the approved loan amounts"
   ]
  },
  {
   "cell_type": "code",
   "execution_count": 25,
   "metadata": {
    "collapsed": true
   },
   "outputs": [],
   "source": [
    "success_loan_amnt = np.asarray(dfS['loan_amnt'])\n",
    "success_loan_amnt =[float(numeric_string) for numeric_string in success_loan_amnt]"
   ]
  },
  {
   "cell_type": "code",
   "execution_count": 26,
   "metadata": {
    "collapsed": false
   },
   "outputs": [
    {
     "data": {
      "image/png": "[encoded data removed]",
      "text/plain": [
       "<matplotlib.figure.Figure at 0x10e27ff10>"
      ]
     },
     "metadata": {},
     "output_type": "display_data"
    }
   ],
   "source": [
    "fig = plt.figure()\n",
    "plt.hist(success_loan_amnt, bins=50)\n",
    "plt.show()"
   ]
  },
  {
   "cell_type": "markdown",
   "metadata": {},
   "source": [
    "Now we see the loan amounts for the unapproved data sets, and see if there is any clear difference between these and the approved loans"
   ]
  },
  {
   "cell_type": "code",
   "execution_count": 8,
   "metadata": {
    "collapsed": true
   },
   "outputs": [],
   "source": [
    "reject_loan_amnt = np.asarray(dfR['loan_amnt'])\n",
    "reject_loan_amnt =[float(numeric_string) for numeric_string in reject_loan_amnt]"
   ]
  },
  {
   "cell_type": "code",
   "execution_count": 10,
   "metadata": {
    "collapsed": false,
    "scrolled": false
   },
   "outputs": [
    {
     "data": {
      "image/png": "[encoded data removed]",
      "text/plain": [
       "<matplotlib.figure.Figure at 0x10cf2e510>"
      ]
     },
     "metadata": {},
     "output_type": "display_data"
    }
   ],
   "source": [
    "fig = plt.figure()\n",
    "plt.hist(np.sort(reject_loan_amnt), bins=50)\n",
    "plt.show()"
   ]
  },
  {
   "cell_type": "code",
   "execution_count": 32,
   "metadata": {
    "collapsed": false
   },
   "outputs": [
    {
     "name": "stdout",
     "output_type": "stream",
     "text": [
      "rejected requests:  1048574\n",
      "accepted requests:  50736\n",
      "mean rejected loan amount:  12575.978116\n",
      "mean accepted loan amount:  14810.5048683\n"
     ]
    }
   ],
   "source": [
    "print \"rejected requests: \", len(reject_loan_amnt)\n",
    "print \"accepted requests: \", len(success_loan_amnt)\n",
    "\n",
    "print \"mean rejected loan amount: \",np.mean(reject_loan_amnt)\n",
    "print \"mean accepted loan amount: \",np.mean(success_loan_amnt)"
   ]
  },
  {
   "cell_type": "markdown",
   "metadata": {},
   "source": [
    "The first thing to notice, is that the vast majority of our data is rejected applications, we have about 20 times as many rejected requests than accepted ones. Secondly, most of our rejected requests are in the same loan amount range as our accepted requests (less than 50,000). But we have some outliers who asked for much more. Some of them asked for 300,000. They were not many, and that is why they are not visible in the histogram (even though they enlarge the graph's domain). \n",
    "\n",
    "The most interesting thing is that the mean rejected loan amount is smaller than the mean accepted loan amount. Therefore, there may be a correlation with larger loans and getting your loan approved. This can be problematic if we want a model that tells us the maximum amount we can request, because it a model trained in this data may tell us that a larger requested loan has increased probabilities of being accepted! I will talk about this problem and potential solutions further on."
   ]
  },
  {
   "cell_type": "markdown",
   "metadata": {},
   "source": [
    " ## Building the model"
   ]
  },
  {
   "cell_type": "code",
   "execution_count": 14,
   "metadata": {
    "collapsed": false
   },
   "outputs": [
    {
     "name": "stderr",
     "output_type": "stream",
     "text": [
      "/Library/Frameworks/Python.framework/Versions/2.7/lib/python2.7/site-packages/sklearn/utils/validation.py:429: DataConversionWarning: Data with input dtype object was converted to float64 by StandardScaler.\n",
      "  warnings.warn(msg, _DataConversionWarning)\n",
      "/Library/Frameworks/Python.framework/Versions/2.7/lib/python2.7/site-packages/sklearn/utils/validation.py:429: DataConversionWarning: Data with input dtype int64 was converted to float64 by StandardScaler.\n",
      "  warnings.warn(msg, _DataConversionWarning)\n"
     ]
    }
   ],
   "source": [
    "mapper = DataFrameMapper([\n",
    "     (['loan_amnt'], sklearn.preprocessing.StandardScaler()),\n",
    "     (['emp_length'], [sklearn.preprocessing.Imputer(), sklearn.preprocessing.StandardScaler()]),\n",
    "     (['addr_state'], [sklearn.preprocessing.LabelBinarizer(),sklearn.preprocessing.StandardScaler()]),\n",
    "     (['dti'], [sklearn.preprocessing.Imputer(),sklearn.preprocessing.StandardScaler()])   \n",
    "     ])\n",
    "\n",
    "np.round(mapper.fit_transform(df.copy()), 2)\n",
    "\n",
    "\n",
    "## Train/Val split\n",
    "y = df['approved']\n",
    "y= y.as_matrix().astype(bool)\n",
    "X = np.round(mapper.transform(df),2)\n",
    "x_train, x_val, y_train, y_val = train_test_split(X,y, test_size=0.5, random_state = 4)"
   ]
  },
  {
   "cell_type": "code",
   "execution_count": 33,
   "metadata": {
    "collapsed": true
   },
   "outputs": [],
   "source": [
    "## Using SMOTE to achieve class balance:\n",
    "\n",
    "sm = SMOTE(random_state=5)\n",
    "#We create balance on training data using SMOTE\n",
    "x_train, y_train = sm.fit_sample(x_train, y_train)\n"
   ]
  },
  {
   "cell_type": "code",
   "execution_count": 43,
   "metadata": {
    "collapsed": false,
    "scrolled": true
   },
   "outputs": [
    {
     "data": {
      "text/plain": [
       "MLPClassifier(activation='relu', alpha=0.01, batch_size='auto', beta_1=0.9,\n",
       "       beta_2=0.999, early_stopping=False, epsilon=1e-08,\n",
       "       hidden_layer_sizes=(64, 64), learning_rate='adaptive',\n",
       "       learning_rate_init=0.1, max_iter=50, momentum=0.9,\n",
       "       nesterovs_momentum=True, power_t=0.5, random_state=None,\n",
       "       shuffle=True, solver='lbfgs', tol=0.0001, validation_fraction=0.1,\n",
       "       verbose=False, warm_start=False)"
      ]
     },
     "execution_count": 43,
     "metadata": {},
     "output_type": "execute_result"
    }
   ],
   "source": [
    "clf1 = LogisticRegression(class_weight ='balanced')\n",
    "clf2 = RandomForestClassifier(n_estimators = 500,class_weight= {True: 100, False:1})\n",
    "clf3 = MLPClassifier(activation= 'relu', solver= 'lbfgs' , alpha=.01 , hidden_layer_sizes= (64,64)\n",
    "                     ,learning_rate= 'adaptive' , max_iter=50 , learning_rate_init= 0.1) \n",
    "\n",
    "Voting = VotingClassifier(estimators = [('LR', clf1),('RF', clf2),  ('MLP', clf3) ], n_jobs=-1)\n",
    "\n",
    "#Voting.fit(x_train, y_train)\n",
    "\n",
    "clf3.fit(x_train, y_train)"
   ]
  },
  {
   "cell_type": "markdown",
   "metadata": {},
   "source": [
    "### Performance"
   ]
  },
  {
   "cell_type": "code",
   "execution_count": 45,
   "metadata": {
    "collapsed": false,
    "scrolled": false
   },
   "outputs": [
    {
     "name": "stdout",
     "output_type": "stream",
     "text": [
      "             precision    recall  f1-score   support\n",
      "\n",
      "      False       0.99      0.83      0.90    524151\n",
      "       True       0.19      0.84      0.31     25504\n",
      "\n",
      "avg / total       0.95      0.83      0.88    549655\n",
      "\n"
     ]
    }
   ],
   "source": [
    "y_hat = clf3.predict(x_val)\n",
    "print metrics.classification_report(y_val,y_hat)"
   ]
  },
  {
   "cell_type": "markdown",
   "metadata": {},
   "source": [
    "Our model has high precision for non approved requests (the \"False\" class) and quite low for the approved requests. We can say then that our model is \"optimistic\": Almost everything that it claims that won't be approved, didn't get approved, but many of the examples that were classified as approved didn't really make it. In practice, it may be better to have a \"pessimistic\" model, as we want to make sure that we at least get some money funded, and not take the risk of using a model that will tell us that we can safely request for more money when that is not the case. I experimented using SMOTE and class weights to fight class imbalance. This did improve results, but further work should be done to obtain a better model. In order to do this, we should do hyperparameter optimization for our models (using cross validation through a grid search or random search), and then we can build an ensemble classifier (I left above the code for a voting classifier, which can take a weighted vote, and the weights for this vote can also be optimized through a random or grid search)."
   ]
  },
  {
   "cell_type": "markdown",
   "metadata": {},
   "source": [
    "## Using Classifier to predict maximum loan amount.\n",
    "\n",
    "Ultimately, we want to be able to tell people what is the maximum amount of money they can ask for and still get approved for the loan (remember, we are assuming that approved loans will obtain all of their requested funding, which seems to be the case for most approved loans). \n",
    "\n",
    "This is the strategy that we will follow:\n",
    "\n",
    "For a given instance (with all known predictors except for loan amount) we will assign a very low initial loan amount, the smallest that we have seen in our approved set. If the classifier predicts that the loan will not be  approved, we assume that the problem is not the amount but some other feature, and hence the person will get no loan approved. If the loan gets approved, we will start increasing loan amount, and see how much we can increase it while still having an approved loan.\n",
    "\n"
   ]
  },
  {
   "cell_type": "code",
   "execution_count": 47,
   "metadata": {
    "collapsed": false
   },
   "outputs": [
    {
     "name": "stdout",
     "output_type": "stream",
     "text": [
      "True\n"
     ]
    }
   ],
   "source": [
    "def TryLoan(Instance,Clf,TryLoan = 3000):\n",
    "    Instance[0]  = TryLoan\n",
    "    InstanceD = {'loan_amnt': Instance[0], 'emp_length': Instance[1],\n",
    "                 'addr_state': Instance[2], 'dti': Instance[3]}\n",
    "    Instance = np.round(mapper.transform(pd.DataFrame(data = InstanceD, index=[1])),2)\n",
    "    return Clf.predict(Instance)\n",
    "\n",
    "    \n",
    "testInstance = np.asarray([5000,3.0,'AZ',11.20]) \n",
    "\n",
    "print TryLoan(testInstance,clf3,7000)[0]\n",
    "    "
   ]
  },
  {
   "cell_type": "code",
   "execution_count": 48,
   "metadata": {
    "collapsed": false
   },
   "outputs": [
    {
     "data": {
      "text/plain": [
       "47900"
      ]
     },
     "execution_count": 48,
     "metadata": {},
     "output_type": "execute_result"
    }
   ],
   "source": [
    "def MaxLoan(Instance, Clf, currLoan = 5000):\n",
    "    Approved = True\n",
    "    MaxLoan = currLoan\n",
    "    while Approved:\n",
    "        currLoan += 100\n",
    "        Approved = TryLoan(Instance,Clf, TryLoan  = currLoan)[0]\n",
    "        if Approved: MaxLoan = currLoan\n",
    "        \n",
    "    return MaxLoan\n",
    "  \n",
    "MaxLoan(testInstance,clf3)\n",
    "    "
   ]
  },
  {
   "cell_type": "markdown",
   "metadata": {},
   "source": [
    "The instance in this example got an approved loan with a requested amount of 5000. Our Multilayered perceptron would still classify it as approved if the person had requested 47900. It makes sense that the boundary is so high, because as we saw most of our rejected loans had amounts very similar or lower to the rejected loans, except for some really high requested loans. I also tried a Random Forest, which gave a more intuitively reasonable result of 7000 dollars that could have been requested. However, that model also claimed that the person wouldn't have gotten the loan approved if they requested 8000, but approved if they requested 10,000. This extrange behaviour suggests that the Random Forest model (with the parameters we used) had high variance, and may be bad at generalizing. It seems like we will prefer simple models here, as they may show more interpretable rules, that are closer to our intuitions about reality, and may be more generalizable."
   ]
  },
  {
   "cell_type": "markdown",
   "metadata": {},
   "source": [
    "Our search approach makes intuitive sense, because we would expect that a larger loan will have less possibilities of approval all else being equal. Similarly, we would assume that requesting less money would never reduce the probabilities of getting the loan approved. There are two reasons why these assumptions may fail us here: The first one is that the assumptions may not be accurate in real life: maybe the company doesn't want to spend effort on small loans, and hence requesting less money could be hindering. The second reason is that even if in real life our assumptions are correct, our models may not reflect this accurately. Our models may be victim to sampling biases (especially if they have higher variance): Imagine that shorter employment length is correlated with smaller requested loans. Furthermore, short employment lengths may be a red flag that makes the person unlikely to receive a loan. In this scenario, there would be a correlation between small requested loan amounts and a reduced likelihood of being approved. Hence our model may tell us that a person should request a larger loan. \n",
    "\n",
    "The problem here, is that our model can not discern between correlations and causation, and we are asking a causal question. Maybe a way to correct this is using matching, so that the people in our \"rejected\" set are similar in all aspects to our group in the \"accepted\" set, except for the requested loan amounts."
   ]
  },
  {
   "cell_type": "markdown",
   "metadata": {},
   "source": [
    "## Training a model with Genetically matched Data"
   ]
  },
  {
   "cell_type": "code",
   "execution_count": 23,
   "metadata": {
    "collapsed": true
   },
   "outputs": [],
   "source": [
    "## First we save our combined data frame as a new csv\n",
    "df = df.dropna(axis=0)\n",
    "df.to_csv('CombinedData.csv')\n",
    "#The csv file is generated with an unnecesary index column that I removed manually"
   ]
  },
  {
   "cell_type": "markdown",
   "metadata": {},
   "source": [
    "I use the R package Matching to perform Genetic Matching. I will match our approved and non approved observations, achieving balance in all features except for loan amount. As a result, the only statistical difference between our approved and non approved groups will be the loan amount (although this could happen to be already balanced by chance), and this can help our model understand the causal link (that we assume exists) between loan amount and outcome (being approved or not). Here is a script I did to achieve feature balance on our two groups. Unfortunately, I was not able to succesfully run it. My computer froze every time I ran it, even if I used small population sizes and generations. This is probably due to the fact that the data set has more than 1 million rows, and my computer can't hold everything in memory."
   ]
  },
  {
   "cell_type": "code",
   "execution_count": null,
   "metadata": {
    "collapsed": false
   },
   "outputs": [],
   "source": [
    "require('Matching')\n",
    "require('rbounds')\n",
    "require('foreign')\n",
    "\n",
    "filename = 'CombinedData.csv'\n",
    "dataset = read.csv(filename)\n",
    "\n",
    "#Use seed for consistency\n",
    "set.seed(415)\n",
    "\n",
    "#Match (using \"approved\" as 'treatment', so that our classes are balanced )\n",
    "\n",
    "#Variables we want to achieve balance on. \n",
    "\n",
    "\n",
    "X <- cbind(dataset$emp_length , dataset$dti ) \n",
    "\n",
    "#I do this to know later which are my matched units\n",
    "\n",
    "\n",
    "genout <- GenMatch( Tr=dataset$approved, X=X,estimand=\"ATT\", M=1,pop.size=50,\n",
    "                   max.generations=10, wait.generations=10, replace = TRUE, ties = FALSE)\n",
    "genmatch <- Match( Tr=dataset$approved, X=X, estimand=\"ATT\", M=1, Weight.matrix=genout, replace = TRUE)\n",
    "\n",
    "\n",
    "balance <- MatchBalance(dataset$approved ~ loan_amnt + emp_length,  data = dataset, match.out = genmatch, nboots=10)\n",
    "\n",
    "matchedbase <- genmatch$mdata\n",
    "\n",
    "#Make a new dataset only with those who survived matching\n",
    "\n",
    "finaldata <- dataset[cbind(genmatch$index.treated , genmatch$index.control) ,]\n",
    "finaldata = finaldata[,-c(1) ]\n",
    "\n",
    "\n",
    "write.csv(finaldata, \"MatchedData.csv\")\n",
    "\n"
   ]
  }
 ],
 "metadata": {
  "kernelspec": {
   "display_name": "Python 2",
   "language": "python",
   "name": "python2"
  },
  "language_info": {
   "codemirror_mode": {
    "name": "ipython",
    "version": 2
   },
   "file_extension": ".py",
   "mimetype": "text/x-python",
   "name": "python",
   "nbconvert_exporter": "python",
   "pygments_lexer": "ipython2",
   "version": "2.7.10"
  }
 },
 "nbformat": 4,
 "nbformat_minor": 1
}
