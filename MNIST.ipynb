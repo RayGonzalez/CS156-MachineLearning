{
 "cells": [
  {
   "cell_type": "code",
   "execution_count": 1,
   "metadata": {
    "collapsed": false
   },
   "outputs": [
    {
     "data": {
      "text/plain": [
       "<matplotlib.figure.Figure at 0x107f7b690>"
      ]
     },
     "metadata": {},
     "output_type": "display_data"
    },
    {
     "data": {
      "image/png": "[encoded data removed]",
      "text/plain": [
       "<matplotlib.figure.Figure at 0x107fafb50>"
      ]
     },
     "metadata": {},
     "output_type": "display_data"
    }
   ],
   "source": [
    "from sklearn.datasets import load_digits\n",
    "digits = load_digits()\n",
    "import matplotlib.pyplot as plt \n",
    "import numpy as np\n",
    "from sklearn.model_selection import train_test_split\n",
    "from sklearn.neighbors import KNeighborsClassifier\n",
    "\n",
    "plt.gray() \n",
    "plt.matshow(digits.images[0]) \n",
    "plt.show() "
   ]
  },
  {
   "cell_type": "code",
   "execution_count": 130,
   "metadata": {
    "collapsed": false
   },
   "outputs": [
    {
     "data": {
      "image/png": "[encoded data removed]",
      "text/plain": [
       "<matplotlib.figure.Figure at 0x109e94b10>"
      ]
     },
     "metadata": {},
     "output_type": "display_data"
    }
   ],
   "source": [
    "plt.matshow(digits.images[1]) \n",
    "plt.show() "
   ]
  },
  {
   "cell_type": "code",
   "execution_count": 191,
   "metadata": {
    "collapsed": false
   },
   "outputs": [
    {
     "name": "stdout",
     "output_type": "stream",
     "text": [
      "355\n",
      "355\n"
     ]
    }
   ],
   "source": [
    "#Use this to select only 2 digits for train and test.\n",
    "data = digits.images.reshape((len(digits.images), -1))\n",
    "Digit1 = 6\n",
    "Digit2 = 8\n",
    "Digit1L = []\n",
    "for i in range(len(digits.target)):\n",
    "    if digits.target[i] == Digit1: Digit1L.append(data[i])\n",
    "Digit2L = []\n",
    "for i in range(len(digits.target)):\n",
    "    if digits.target[i] == Digit2: Digit2L.append(data[i])  \n",
    "labels = [Digit1 for i in range(len(Digit1L))]\n",
    "for i in range(len(Digit2L)): \n",
    "    labels.append(Digit2)\n",
    "Images = Digit1L[:]\n",
    "for i in Digit2L: Images.append(i)   "
   ]
  },
  {
   "cell_type": "code",
   "execution_count": 192,
   "metadata": {
    "collapsed": false
   },
   "outputs": [],
   "source": [
    "Im_train, Im_test, label_train, label_test = train_test_split(Images, labels, test_size=0.90, random_state=42)\n",
    "clf = KNeighborsClassifier(n_neighbors=3)\n",
    "clf.fit(Im_train, label_train) \n",
    "label_predicted = clf.predict(Im_test)"
   ]
  },
  {
   "cell_type": "code",
   "execution_count": 193,
   "metadata": {
    "collapsed": false
   },
   "outputs": [
    {
     "name": "stdout",
     "output_type": "stream",
     "text": [
      "Classification report for classifier KNeighborsClassifier(algorithm='auto', leaf_size=30, metric='minkowski',\n",
      "           metric_params=None, n_jobs=1, n_neighbors=3, p=2,\n",
      "           weights='uniform'):\n",
      "             precision    recall  f1-score   support\n",
      "\n",
      "          6       0.99      1.00      1.00       163\n",
      "          8       1.00      0.99      1.00       157\n",
      "\n",
      "avg / total       1.00      1.00      1.00       320\n",
      "\n",
      "\n",
      "Confusion matrix:\n",
      "[[163   0]\n",
      " [  1 156]]\n"
     ]
    }
   ],
   "source": [
    "#Show results\n",
    "from sklearn import metrics\n",
    "print(\"Classification report for classifier %s:\\n%s\\n\"\n",
    "      % (clf, metrics.classification_report(label_test, label_predicted)))\n",
    "print(\"Confusion matrix:\\n%s\" % metrics.confusion_matrix(label_test, label_predicted))"
   ]
  }
 ],
 "metadata": {
  "kernelspec": {
   "display_name": "Python 2",
   "language": "python",
   "name": "python2"
  },
  "language_info": {
   "codemirror_mode": {
    "name": "ipython",
    "version": 2
   },
   "file_extension": ".py",
   "mimetype": "text/x-python",
   "name": "python",
   "nbconvert_exporter": "python",
   "pygments_lexer": "ipython2",
   "version": "2.7.10"
  }
 },
 "nbformat": 4,
 "nbformat_minor": 1
}
