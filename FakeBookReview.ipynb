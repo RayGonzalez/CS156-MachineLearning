{
 "cells": [
  {
   "cell_type": "markdown",
   "metadata": {},
   "source": [
    "## Fake Book Review\n",
    "### Raymundo Gonzalez Leal\n",
    "\n",
    "I will use Latent Dirichlet Allocation on the book \"A Tale of Two Cities\" by Charles Dickens. I will use inverse document frequency and count vectorizer, and I will try using chapters and paragraphs as documents (so I will have 4 different results). I will use the top words from each topic to try to infer the main topics in the book, and see if this is enough to try to make a book review. "
   ]
  },
  {
   "cell_type": "code",
   "execution_count": 13,
   "metadata": {
    "collapsed": true
   },
   "outputs": [],
   "source": [
    "from collections import OrderedDict\n",
    "from sklearn.feature_extraction.text import TfidfVectorizer, CountVectorizer\n",
    "from sklearn.decomposition import LatentDirichletAllocation\n",
    "import re"
   ]
  },
  {
   "cell_type": "code",
   "execution_count": 55,
   "metadata": {
    "collapsed": false
   },
   "outputs": [],
   "source": [
    "n_samples = 2000\n",
    "n_features = 1000\n",
    "n_components = 10\n",
    "n_top_words = 10"
   ]
  },
  {
   "cell_type": "code",
   "execution_count": 56,
   "metadata": {
    "collapsed": true
   },
   "outputs": [],
   "source": [
    "def print_top_words(model, feature_names, n_top_words):\n",
    "    for topic_idx, topic in enumerate(model.components_):\n",
    "        message = \"Topic #%d: \" % topic_idx\n",
    "        message += \" \".join([feature_names[i]\n",
    "                             for i in topic.argsort()[:-n_top_words - 1:-1]])\n",
    "        print(message)\n",
    "    print()"
   ]
  },
  {
   "cell_type": "markdown",
   "metadata": {},
   "source": [
    "### Using chapters as documents\n",
    "\n",
    "Chapters for \"A Tale of Two Cities\" were previously extracted using the chapterize package (https://github.com/JonathanReeve/chapterize)."
   ]
  },
  {
   "cell_type": "code",
   "execution_count": 57,
   "metadata": {
    "collapsed": false
   },
   "outputs": [],
   "source": [
    "Chapters = []\n",
    "chapters_path  = 'TaleOfTwoCities-chapters/'\n",
    "\n",
    "for i in range(1,40):\n",
    "    chap_num = str(i)\n",
    "    this_path = chapters_path + chap_num + '.txt'\n",
    "    \n",
    "    Chapters.append(open(this_path, 'r').read())\n",
    "    "
   ]
  },
  {
   "cell_type": "code",
   "execution_count": 58,
   "metadata": {
    "collapsed": false,
    "scrolled": true
   },
   "outputs": [
    {
     "name": "stdout",
     "output_type": "stream",
     "text": [
      "Topic #0: mr jerry cruncher prisoner young lorry time old like father\n",
      "Topic #1: mr say lorry stryver doctor little time day brought knew\n",
      "Topic #2: defarge mr little madame hand time like good day looked\n",
      "Topic #3: lorry mr make speak stryver lady business way cried house\n",
      "Topic #4: mr miss monseigneur little way know hand like lorry father\n",
      "Topic #5: brother hand doctor time boy little young day place father\n",
      "Topic #6: mr lorry doctor miss darnay pross time know manette father\n",
      "Topic #7: defarge madame mr lorry miss know father pross time hand\n",
      "Topic #8: long mr know say eyes little old father defarge like\n",
      "Topic #9: defarge madame wine mr hand day lorry eyes little monsieur\n",
      "()\n"
     ]
    }
   ],
   "source": [
    "tf_vectorizer = CountVectorizer(max_df=0.95, min_df=2,\n",
    "                                max_features=n_features,\n",
    "                                stop_words='english')\n",
    "\n",
    "tf = tf_vectorizer.fit_transform(Chapters)\n",
    "\n",
    "lda = LatentDirichletAllocation(n_components=n_components, max_iter=5,\n",
    "                                learning_method='online',\n",
    "                                learning_offset=50.,\n",
    "                                random_state=0)\n",
    "\n",
    "lda.fit(tf)\n",
    "\n",
    "tf_feature_names = tf_vectorizer.get_feature_names()\n",
    "print_top_words(lda, tf_feature_names, n_top_words)"
   ]
  },
  {
   "cell_type": "code",
   "execution_count": 59,
   "metadata": {
    "collapsed": false,
    "scrolled": true
   },
   "outputs": [
    {
     "name": "stdout",
     "output_type": "stream",
     "text": [
      "Topic #0: street fast work hours touch manner hear smile express lay\n",
      "Topic #1: say road solomon courtyard shown saying usual dover removed sign\n",
      "Topic #2: mr lorry defarge carton miss darnay pross little left know\n",
      "Topic #3: speak quarter heavily cried loud curious felt respect bare make\n",
      "Topic #4: bench carry french master monseigneur seek lifted english patient way\n",
      "Topic #5: young writing tumbrils wore difficulty woman far gate midst easy\n",
      "Topic #6: honour seen time mr rose door went lorry low barsad\n",
      "Topic #7: daughter true strike wot particular summer feel wife past suspected\n",
      "Topic #8: men lamps steadily tumbrils patriot boots sense know order walked\n",
      "Topic #9: darkness love rough sun mender narrow summer monsieur grim spot\n",
      "()\n"
     ]
    }
   ],
   "source": [
    "tfidf_vectorizer = TfidfVectorizer(max_df=0.95, min_df=2,\n",
    "                                   max_features=n_features,\n",
    "                                   stop_words='english')\n",
    "tfidf = tfidf_vectorizer.fit_transform(Chapters)\n",
    "\n",
    "lda.fit(tfidf)\n",
    "\n",
    "tfidf_feature_names = tfidf_vectorizer.get_feature_names()\n",
    "print_top_words(lda, tfidf_feature_names, n_top_words)"
   ]
  },
  {
   "cell_type": "markdown",
   "metadata": {},
   "source": [
    "Look at Topic #2, we got plenty character names. Seems reasonable to say that the main characters are Mr Lorry, Defarge, Carton, Miss Darnay, and Pross."
   ]
  },
  {
   "cell_type": "markdown",
   "metadata": {},
   "source": [
    "### Spliting by paragraph"
   ]
  },
  {
   "cell_type": "code",
   "execution_count": 52,
   "metadata": {
    "collapsed": false
   },
   "outputs": [
    {
     "data": {
      "text/plain": [
       "3452"
      ]
     },
     "execution_count": 52,
     "metadata": {},
     "output_type": "execute_result"
    }
   ],
   "source": [
    "text_path = 'TaleOfTwoCities.txt'\n",
    "full_text = open(text_path, 'r').read()\n",
    "full_text = re.split( '\\r\\n\\r\\n', full_text )\n",
    "len(full_text)"
   ]
  },
  {
   "cell_type": "code",
   "execution_count": 60,
   "metadata": {
    "collapsed": false
   },
   "outputs": [
    {
     "name": "stdout",
     "output_type": "stream",
     "text": [
      "Topic #0: shall jerry said young sir way hear morrow come voice\n",
      "Topic #1: time say mr long dear day lucie doctor lorry manette\n",
      "Topic #2: gutenberg project work tm prison works looked saint electronic foundation\n",
      "Topic #3: death moment tell believe hour usual case prisoner distance knew\n",
      "Topic #4: hand eyes old face like look looked man looking passed\n",
      "Topic #5: little monseigneur went like people came great night did house\n",
      "Topic #6: charles darnay yes good brother citizen english life doctor french\n",
      "Topic #7: said mr lorry miss carton pross man head face looked\n",
      "Topic #8: know think told business wife mother ask evremonde child poor\n",
      "Topic #9: defarge madame wine monsieur jacques shop door man vengeance little\n",
      "()\n"
     ]
    }
   ],
   "source": [
    "tf = tf_vectorizer.fit_transform(full_text)\n",
    "lda = LatentDirichletAllocation(n_components=n_components, max_iter=5,\n",
    "                                learning_method='online',\n",
    "                                learning_offset=50.,\n",
    "                                random_state=0)\n",
    "\n",
    "lda.fit(tf)\n",
    "tf_feature_names = tf_vectorizer.get_feature_names()\n",
    "print_top_words(lda, tf_feature_names, n_top_words)"
   ]
  },
  {
   "cell_type": "code",
   "execution_count": 61,
   "metadata": {
    "collapsed": false
   },
   "outputs": [
    {
     "name": "stdout",
     "output_type": "stream",
     "text": [
      "Topic #0: said mr defarge doctor madame man hand time lorry manette\n",
      "Topic #1: said mr know say lorry don asked good miss pross\n",
      "Topic #2: roads mender looked hand village said voice man began little\n",
      "Topic #3: citizen believe remember tell ago tower la north force law\n",
      "Topic #4: jerry president mail buried accused shadow everybody drank fell bell\n",
      "Topic #5: gabelle recall pretty hear roar town guard desire worst does\n",
      "Topic #6: gutenberg project tm work works citizeness electronic use foundation org\n",
      "Topic #7: yes sir think moment papers truly paper written passenger handed\n",
      "Topic #8: hope father husband start woman true silence footsteps dear head\n",
      "Topic #9: monseigneur charles england brother hurry ghost court world begin arrived\n",
      "()\n"
     ]
    }
   ],
   "source": [
    "tfidf_vectorizer = TfidfVectorizer(max_df=0.95, min_df=2,\n",
    "                                   max_features=n_features,\n",
    "                                   stop_words='english')\n",
    "tfidf = tfidf_vectorizer.fit_transform(full_text)\n",
    "lda.fit(tfidf)\n",
    "tfidf_feature_names = tfidf_vectorizer.get_feature_names()\n",
    "print_top_words(lda, tfidf_feature_names, n_top_words)"
   ]
  },
  {
   "cell_type": "markdown",
   "metadata": {
    "collapsed": true
   },
   "source": [
    "#### Review "
   ]
  },
  {
   "cell_type": "markdown",
   "metadata": {},
   "source": [
    "By looking at some of the recurrent works in our 4 results we identify what seem to be important characters, themes, and symbols. When we used each chapter as a document, each individual \"topic\" doesn't really seem sufficiently different from the others. We'll make an educated guess from this, and say that the topics explored in each chapter are farly similar. Time for our review:"
   ]
  },
  {
   "cell_type": "markdown",
   "metadata": {},
   "source": [
    "\"A Tale of Two Cities\" by Charles Dickens depicts the story of Mr. Lorry, Defarge, Miss Darnay and Pross. Following these characters, the novel explores the passage of time in France and England. Family is a recurrent theme, and ideas such as brotherhood and fatherhood are explored through Mr. Lorry's relationships with other characters. Ultimately, this is a love story, even if the characters tend to find themselves threatened by darkness, imprisonment, and death. Dickens does a good job at using symbols such as wine, the streets, bureaucracy and wealth in order to better convey the story. A criticism that can be done is there is little thematic variation across the chapters. Hence, while the plot progresses, the ideas that Dickens explores remain fairly constant, which allows for consistency but ultimately prevents individual chapters from being memorable.\" \n",
    "\n",
    "\n",
    "I actually read the book a couple years ago in literature class in high school. My teacher would definetly not be impressed with this \"review\". Something unsettling is that, just by looking at the topics extracted from our method, we would have no clue about the importance of the French revolution in the novel. We wouldn't even know for sure which are the two cities from the title! (Although we know things happen in France and England, so Paris and London would have been the clear bet). Anyway, this is not that bad for such a naive method."
   ]
  }
 ],
 "metadata": {
  "kernelspec": {
   "display_name": "Python 2",
   "language": "python",
   "name": "python2"
  },
  "language_info": {
   "codemirror_mode": {
    "name": "ipython",
    "version": 2
   },
   "file_extension": ".py",
   "mimetype": "text/x-python",
   "name": "python",
   "nbconvert_exporter": "python",
   "pygments_lexer": "ipython2",
   "version": "2.7.10"
  }
 },
 "nbformat": 4,
 "nbformat_minor": 1
}
