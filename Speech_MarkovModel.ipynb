{
 "cells": [
  {
   "cell_type": "markdown",
   "metadata": {},
   "source": [
    "### Speech recognition example\n",
    "##### Raymundo Gonzalez Leal"
   ]
  },
  {
   "cell_type": "code",
   "execution_count": 61,
   "metadata": {
    "collapsed": false
   },
   "outputs": [],
   "source": [
    "import numpy as np\n",
    "from hmmlearn import hmm\n",
    "import matplotlib.pyplot as plt"
   ]
  },
  {
   "cell_type": "code",
   "execution_count": 62,
   "metadata": {
    "collapsed": true
   },
   "outputs": [],
   "source": [
    "A_train_path = 'symbol/language-training-langA-'\n",
    "B_train_path = 'symbol/language-training-langB-'\n",
    "C_train_path = 'symbol/language-training-langC-'\n",
    "test_path = 'symbol/language-test-'"
   ]
  },
  {
   "cell_type": "code",
   "execution_count": 63,
   "metadata": {
    "collapsed": false
   },
   "outputs": [],
   "source": [
    "A_text = ''\n",
    "for i in range(30):\n",
    "    file_num = str(i)\n",
    "    this_path = A_train_path + file_num     \n",
    "    A_text =  A_text + 'S' +  open(this_path, 'r').read() + 'F'\n",
    "\n",
    "B_text = ''\n",
    "for i in range(30):\n",
    "    file_num = str(i)\n",
    "    this_path = B_train_path + file_num     \n",
    "    B_text = B_text + 'S' + open(this_path, 'r').read() + 'F'\n",
    "\n",
    "C_text = ''\n",
    "for i in range(30):\n",
    "    file_num = str(i)\n",
    "    this_path = C_train_path + file_num     \n",
    "    C_text = C_text + 'S'+ open(this_path, 'r').read() + 'F'\n",
    "    \n",
    "test_list = []\n",
    "for i in range(9):\n",
    "    file_num = str(i)\n",
    "    this_path = test_path + file_num\n",
    "    test_list.append('S'+ open(this_path, 'r').read() + 'F')"
   ]
  },
  {
   "cell_type": "markdown",
   "metadata": {},
   "source": [
    "Note that we added the S and F to indicate the beginning and end of every sentence. This way we are implcitly modeling the length of the sentences, and we are showing which letters are most likely to be right before the end of a sentence or right after the beginning (which seems important if we don't know how the text was generated)."
   ]
  },
  {
   "cell_type": "code",
   "execution_count": 86,
   "metadata": {
    "collapsed": false
   },
   "outputs": [],
   "source": [
    "index_list = ['S', 'F', 'A', 'o', 'e', 't', 'p', 'g', 'k']\n",
    "\n",
    "### Creating transition matrices for each speaker. \n",
    "\n",
    "\n",
    "M_A = [ [0 for j in range(len(index_list))] for i in range(len(index_list)) ]\n",
    "for char_ind in range(len(A_text)-1):\n",
    "    i  =  index_list.index(A_text[char_ind])\n",
    "    j  =  index_list.index(A_text[char_ind + 1])    \n",
    "    M_A[i][j] += 1.0 \n",
    "for k in range(len(M_A)):\n",
    "    M_A[k] = np.asarray(M_A[k]) / sum(np.asarray(M_A[k])) \n",
    "    \n",
    "M_B = [ [0 for j in range(len(index_list))] for i in range(len(index_list)) ]\n",
    "for char_ind in range(len(B_text)-1):\n",
    "    i  =  index_list.index(B_text[char_ind])\n",
    "    j  =  index_list.index(B_text[char_ind + 1])    \n",
    "    M_B[i][j] += 1.0 \n",
    "for k in range(len(M_B)):\n",
    "    M_B[k] = np.asarray(M_B[k]) / sum(np.asarray(M_B[k])) \n",
    "    \n",
    "M_C = [ [0 for j in range(len(index_list))] for i in range(len(index_list)) ]\n",
    "for char_ind in range(len(C_text)-1):\n",
    "    i  =  index_list.index(C_text[char_ind])\n",
    "    j  =  index_list.index(C_text[char_ind + 1])    \n",
    "    M_C[i][j] += 1.0 \n",
    "for k in range(len(M_C)):\n",
    "    M_C[k] = np.asarray(M_C[k]) / sum(np.asarray(M_C[k])) "
   ]
  },
  {
   "cell_type": "code",
   "execution_count": 87,
   "metadata": {
    "collapsed": false
   },
   "outputs": [
    {
     "data": {
      "text/plain": [
       "[array([ 0.        ,  0.        ,  0.23333333,  0.16666667,  0.1       ,\n",
       "         0.16666667,  0.1       ,  0.16666667,  0.06666667]),\n",
       " array([ 1.,  0.,  0.,  0.,  0.,  0.,  0.,  0.,  0.]),\n",
       " array([ 0.        ,  0.00700935,  0.61682243,  0.06775701,  0.05373832,\n",
       "         0.04672897,  0.08411215,  0.07009346,  0.05373832]),\n",
       " array([ 0.        ,  0.00917431,  0.06651376,  0.61009174,  0.05275229,\n",
       "         0.06880734,  0.08256881,  0.05045872,  0.05963303]),\n",
       " array([ 0.        ,  0.00696056,  0.05800464,  0.05568445,  0.60324826,\n",
       "         0.07192575,  0.07424594,  0.05800464,  0.07192575]),\n",
       " array([ 0.        ,  0.01128668,  0.06772009,  0.05869074,  0.06997743,\n",
       "         0.59142212,  0.06320542,  0.07900677,  0.05869074]),\n",
       " array([ 0.        ,  0.01103753,  0.0419426 ,  0.07064018,  0.08830022,\n",
       "         0.07064018,  0.59161148,  0.08609272,  0.0397351 ]),\n",
       " array([ 0.        ,  0.01598174,  0.07990868,  0.05707763,  0.06849315,\n",
       "         0.07305936,  0.05022831,  0.5913242 ,  0.06392694]),\n",
       " array([ 0.        ,  0.00808625,  0.05121294,  0.07816712,  0.05660377,\n",
       "         0.08355795,  0.0754717 ,  0.06199461,  0.58490566])]"
      ]
     },
     "execution_count": 87,
     "metadata": {},
     "output_type": "execute_result"
    }
   ],
   "source": [
    "M_C"
   ]
  },
  {
   "cell_type": "code",
   "execution_count": 107,
   "metadata": {
    "collapsed": false,
    "scrolled": true
   },
   "outputs": [
    {
     "data": {
      "text/plain": [
       "9"
      ]
     },
     "execution_count": 107,
     "metadata": {},
     "output_type": "execute_result"
    }
   ],
   "source": [
    "len(test_list)"
   ]
  },
  {
   "cell_type": "markdown",
   "metadata": {},
   "source": [
    "By bayes rule $ P(M | D) \\propto P(D | M) * P(M) $\n",
    "\n",
    "If we assign equal priors to all models, this means we'll classify by looking for the model with the highest likelihood"
   ]
  },
  {
   "cell_type": "code",
   "execution_count": 98,
   "metadata": {
    "collapsed": true
   },
   "outputs": [],
   "source": [
    "def classify(text, M_list = [M_A, M_B, M_C]):\n",
    "    \n",
    "    Likelihoods = [1 for i in range(len(M_list))]\n",
    "    for M_ind in range(len(M_list)):        \n",
    "        for char_ind in range(len(text)-1):\n",
    "            i  =  index_list.index(text[char_ind])\n",
    "            j  =  index_list.index(text[char_ind + 1])\n",
    "            \n",
    "            this_fact = M_list[M_ind][i][j]\n",
    "            Likelihoods[M_ind] = Likelihoods[M_ind] * this_fact\n",
    "        \n",
    "    return Likelihoods\n",
    "    "
   ]
  },
  {
   "cell_type": "markdown",
   "metadata": {},
   "source": [
    "Here are our models classifications for the test set:"
   ]
  },
  {
   "cell_type": "code",
   "execution_count": 222,
   "metadata": {
    "collapsed": false
   },
   "outputs": [
    {
     "name": "stdout",
     "output_type": "stream",
     "text": [
      "2\n",
      "2\n",
      "0\n",
      "1\n",
      "0\n",
      "0\n",
      "1\n",
      "0\n",
      "2\n"
     ]
    }
   ],
   "source": [
    "for test in test_list:\n",
    "    print classify(test).index(max(classify(test)))\n",
    "   "
   ]
  },
  {
   "cell_type": "markdown",
   "metadata": {
    "collapsed": true
   },
   "source": [
    "## Problem 2"
   ]
  },
  {
   "cell_type": "markdown",
   "metadata": {},
   "source": [
    "There are three people in a room. Each says about 10 phonemes, before being randomly interrupted by someone else. When they speak they all sound the same, however each person tends to use different phonemes in their speech. Specifically we can model the following transition probabilities that someone will interrupt the current speaker: P(speaker i at time t+1 | speaker j at time t). We can also model the probability over phonemes given a particular speaker: P(phoneme | speaker i). The phonemes are identical to the ones introduced in problem 1 (but the transition matrices are obviously different, since they take a different form altogether).\n",
    "\n",
    "Write down the update equations that you will need to train a hidden Markov model. Using the information given above, write down a sensible initialization for the transition matrix."
   ]
  },
  {
   "cell_type": "markdown",
   "metadata": {},
   "source": [
    "##### $\\alpha$ recursion\n",
    "\n",
    "From Barber 23.2:\n",
    "\n",
    "$ \\alpha(h_t) = p(h_t | v_{1:t}) = p(v_t | h_t) \\sum_{h_{t-1}} p(h_t | h_{t-1}) \\alpha(h_{t-1})  $\n",
    "\n",
    "with $\\alpha(h_1) = p(v_1 | h_1) p(h_1)$\n",
    "\n",
    "\n",
    "##### $\\beta$ recursion\n",
    "\n",
    "$ \\beta(h_{t-1}) = \\sum_{h_t} p(v_t | h_t) p(h_t | h_{t-1}) \\beta(h_t) $  \n",
    "\n",
    "where\n",
    "\n",
    "$2 \\leq t \\leq T$\n",
    "\n",
    "and\n",
    "\n",
    "$\\beta(h_T) = 1 $\n",
    "\n",
    "\n",
    "Combining our $\\alpha $ and $\\beta$ recursions, we can calculate the posterior over the hidden states at any time through the gamma function:\n",
    "\n",
    "$ P(h_t | v_{1:T}) \\equiv \\gamma(h_t) = \\frac{\\alpha(h_t) \\beta(h_t)}{\\sum_{h_t} \\alpha(h_t) \\beta(h_t)} $\n",
    "\n",
    "\n",
    "\n"
   ]
  },
  {
   "cell_type": "markdown",
   "metadata": {},
   "source": [
    "Here I will use the hmmlearn package to train a HMM. I will compute the probabilities for each hidden state at every time and plot them over time."
   ]
  },
  {
   "cell_type": "code",
   "execution_count": 92,
   "metadata": {
    "collapsed": true
   },
   "outputs": [],
   "source": [
    "speaker_data = open('speaker.txt', 'r').read()"
   ]
  },
  {
   "cell_type": "code",
   "execution_count": 93,
   "metadata": {
    "collapsed": false,
    "scrolled": true
   },
   "outputs": [],
   "source": [
    "n_observations = 7\n",
    "observations = ['A', 'o', 'e', 't', 'p', 'g', 'k']\n",
    "\n",
    "multinomial_data = []\n",
    "for i in speaker_data: multinomial_data.append(observations.index(i))\n",
    "multinomial_data = np.asarray(multinomial_data).reshape(-1, 1)\n"
   ]
  },
  {
   "cell_type": "code",
   "execution_count": 207,
   "metadata": {
    "collapsed": false,
    "scrolled": true
   },
   "outputs": [
    {
     "data": {
      "text/plain": [
       "(-1964.5407857483397,\n",
       " array([1, 1, 1, 1, 1, 1, 1, 1, 1, 1, 1, 1, 2, 2, 2, 2, 2, 2, 2, 2, 2, 2, 2,\n",
       "        2, 2, 2, 2, 2, 2, 2, 2, 2, 2, 1, 1, 1, 1, 1, 0, 0, 0, 0, 0, 0, 0, 0,\n",
       "        2, 2, 2, 2, 2, 2, 2, 2, 0, 1, 1, 1, 1, 2, 2, 2, 2, 2, 2, 2, 2, 2, 2,\n",
       "        2, 2, 2, 2, 2, 2, 2, 2, 2, 2, 2, 2, 2, 2, 2, 2, 2, 2, 2, 2, 2, 2, 2,\n",
       "        2, 1, 1, 1, 1, 1, 1, 1, 1, 1, 2, 2, 2, 2, 2, 2, 2, 1, 0, 0, 0, 0, 0,\n",
       "        0, 0, 0, 0, 0, 0, 0, 0, 0, 0, 0, 1, 1, 1, 1, 1, 1, 0, 0, 0, 0, 0, 0,\n",
       "        0, 0, 0, 1, 1, 1, 1, 1, 1, 0, 1, 2, 2, 2, 2, 2, 2, 2, 2, 2, 1, 0, 0,\n",
       "        0, 2, 2, 2, 2, 2, 2, 2, 1, 0, 0, 0, 0, 0, 1, 1, 2, 2, 2, 2, 2, 2, 2,\n",
       "        2, 2, 2, 2, 2, 2, 1, 0, 0, 0, 0, 0, 0, 0, 1, 1, 2, 2, 2, 2, 2, 2, 1,\n",
       "        0, 0, 0, 0, 0, 0, 0, 0, 0, 0, 0, 0, 0, 0, 0, 0, 0, 0, 0, 0, 0, 0, 0,\n",
       "        0, 0, 0, 0, 0, 0, 0, 0, 0, 0, 0, 0, 0, 0, 0, 1, 1, 2, 2, 2, 2, 2, 2,\n",
       "        1, 0, 0, 0, 0, 0, 0, 0, 0, 2, 2, 2, 2, 1, 1, 1, 1, 1, 1, 1, 1, 0, 0,\n",
       "        1, 2, 2, 2, 2, 2, 2, 2, 2, 2, 2, 2, 1, 1, 1, 1, 0, 0, 1, 1, 1, 0, 0,\n",
       "        0, 0, 0, 0, 0, 0, 0, 0, 0, 0, 0, 0, 0, 0, 0, 0, 0, 0, 0, 0, 0, 0, 0,\n",
       "        0, 0, 0, 0, 0, 0, 0, 0, 0, 0, 0, 0, 0, 0, 0, 0, 0, 0, 0, 0, 0, 1, 2,\n",
       "        2, 2, 2, 2, 2, 2, 2, 2, 2, 2, 2, 2, 2, 2, 2, 2, 2, 2, 2, 2, 2, 2, 2,\n",
       "        2, 2, 2, 2, 2, 1, 1, 1, 0, 0, 0, 0, 0, 0, 0, 0, 0, 0, 0, 0, 0, 0, 0,\n",
       "        0, 2, 2, 2, 2, 2, 2, 2, 2, 2, 2, 2, 1, 1, 1, 1, 0, 0, 0, 0, 0, 0, 0,\n",
       "        0, 0, 0, 0, 0, 0, 0, 2, 2, 2, 2, 2, 2, 2, 2, 2, 2, 2, 2, 2, 2, 2, 2,\n",
       "        2, 2, 2, 2, 2, 2, 2, 2, 2, 2, 2, 2, 2, 2, 2, 2, 2, 2, 2, 2, 0, 0, 0,\n",
       "        0, 0, 0, 0, 1, 1, 1, 1, 1, 1, 1, 1, 1, 1, 1, 1, 0, 0, 0, 2, 2, 2, 2,\n",
       "        2, 2, 2, 2, 1, 1, 1, 1, 1, 1, 1, 1, 1, 1, 1, 1, 1, 0, 0, 0, 0, 0, 0,\n",
       "        0, 0, 0, 0, 0, 0, 0, 1, 1, 1, 1, 1, 1, 1, 1, 1, 1, 0, 0, 0, 0, 0, 0,\n",
       "        1, 1, 1, 1, 1, 1, 1, 1, 2, 2, 2, 2, 2, 2, 2, 2, 2, 2, 2, 2, 2, 2, 2,\n",
       "        2, 2, 1, 0, 0, 1, 1, 1, 1, 1, 1, 1, 1, 1, 1, 1, 1, 1, 2, 2, 2, 2, 2,\n",
       "        2, 2, 2, 2, 2, 2, 2, 2, 2, 2, 2, 2, 2, 2, 2, 2, 2, 2, 0, 0, 0, 0, 0,\n",
       "        0, 0, 0, 2, 2, 2, 2, 2, 2, 2, 2, 2, 2, 2, 2, 2, 2, 2, 2, 2, 2, 2, 2,\n",
       "        2, 2, 2, 0, 0, 2, 2, 2, 2, 2, 2, 2, 1, 0, 0, 0, 0, 0, 0, 0, 0, 0, 0,\n",
       "        0, 0, 0, 0, 0, 2, 2, 1, 0, 0, 0, 1, 1, 1, 0, 0, 0, 2, 2, 1, 0, 0, 0,\n",
       "        0, 1, 1, 1, 1, 1, 1, 0, 0, 0, 0, 0, 1, 1, 1, 1, 1, 2, 2, 2, 2, 2, 2,\n",
       "        2, 0, 0, 0, 0, 0, 2, 2, 2, 2, 2, 2, 2, 2, 2, 2, 1, 0, 0, 0, 0, 0, 0,\n",
       "        0, 0, 0, 0, 0, 0, 2, 2, 2, 2, 2, 2, 1, 1, 1, 2, 2, 2, 2, 2, 0, 0, 1,\n",
       "        1, 1, 1, 1, 1, 2, 2, 2, 2, 2, 2, 2, 2, 2, 2, 2, 1, 0, 0, 0, 0, 0, 0,\n",
       "        0, 0, 0, 0, 0, 0, 0, 0, 0, 1, 1, 1, 2, 2, 2, 1, 0, 0, 0, 0, 0, 0, 0,\n",
       "        1, 2, 2, 2, 2, 1, 0, 0, 0, 0, 0, 0, 0, 0, 0, 0, 2, 2, 2, 2, 2, 2, 2,\n",
       "        2, 2, 2, 2, 2, 2, 2, 2, 2, 2, 2, 2, 2, 2, 2, 2, 2, 2, 2, 2, 2, 2, 2,\n",
       "        2, 2, 2, 2, 2, 1, 0, 0, 0, 0, 0, 0, 0, 2, 2, 2, 2, 2, 2, 2, 2, 2, 2,\n",
       "        2, 2, 2, 2, 2, 2, 2, 2, 2, 2, 2, 2, 2, 2, 2, 2, 2, 2, 2, 2, 2, 2, 2,\n",
       "        2, 2, 1, 0, 0, 0, 0, 0, 0, 0, 0, 0, 0, 0, 0, 1, 1, 1, 1, 1, 1, 1, 1,\n",
       "        1, 1, 1, 1, 1, 1, 1, 1, 1, 1, 0, 0, 0, 0, 0, 0, 0, 0, 0, 0, 0, 1, 1,\n",
       "        0, 0, 0, 0, 0, 0, 0, 0, 0, 0, 0, 0, 0, 0, 0, 0, 0, 0, 0, 0, 0, 0, 0,\n",
       "        1, 2, 2, 1, 1, 1, 2, 2, 2, 2, 2, 2, 2, 2, 2, 2, 2, 2, 2, 2, 2, 2, 2,\n",
       "        2, 2, 2, 2, 2, 1, 1, 1, 1, 1, 0, 1, 2, 2, 2, 2, 2, 2, 2, 2, 2, 2, 2,\n",
       "        2, 1, 1, 1, 1, 1, 1, 2, 2, 2, 2]))"
      ]
     },
     "execution_count": 207,
     "metadata": {},
     "output_type": "execute_result"
    }
   ],
   "source": [
    "n_states = 3\n",
    "start_probability= np.array([1.0/3, 1.0/3, 1.0/3])\n",
    "\n",
    "transition_probability = np.array([\n",
    "  [0.9, 0.05, 0.05],\n",
    "  [0.05, 0.9, 0.05],\n",
    "  [0.05, 0.05, 0.9]       \n",
    "])\n",
    "\n",
    "model = hmm.MultinomialHMM(n_components= n_states)\n",
    "model.startprob=start_probability\n",
    "model.transmat=transition_probability\n",
    "model.fit(multinomial_data)\n",
    "model.decode(multinomial_data)"
   ]
  },
  {
   "cell_type": "code",
   "execution_count": 208,
   "metadata": {
    "collapsed": false,
    "scrolled": true
   },
   "outputs": [
    {
     "data": {
      "image/png": "[encoded data removed]",
      "text/plain": [
       "<matplotlib.figure.Figure at 0x109e44610>"
      ]
     },
     "metadata": {},
     "output_type": "display_data"
    }
   ],
   "source": [
    "probs = model.predict_proba(np.asarray(multinomial_data))\n",
    "probs0 = [i[0] for i in probs]\n",
    "probs1 = [i[1] for i in probs]\n",
    "probs2 = [i[2] for i in probs]\n",
    "\n",
    "x = np.arange(len(speaker_data))\n",
    "fig, ax = plt.subplots()\n",
    "ax.stackplot(x, probs0, probs1, probs2)\n",
    "plt.show()"
   ]
  },
  {
   "cell_type": "markdown",
   "metadata": {},
   "source": [
    "Now I will try to make my own implementation\n",
    "\n",
    "Note: Implementation is based on Guy's file on the slack channel (which had the general structure but did not show most of the implemented functions).\n",
    "\n",
    "Second note: I realized too late that the assignment description for this problem was to make our own implementation (I thought using hmmlearn would be enough). I was not able to complete this implementation.\n"
   ]
  },
  {
   "cell_type": "code",
   "execution_count": 122,
   "metadata": {
    "collapsed": true
   },
   "outputs": [],
   "source": [
    "ALPHABET = ['A', 'o', 'e', 't', 'p', 'g', 'k']\n",
    "\n",
    "data = open('speaker.txt').read() \n",
    "transitions = list(zip(data, data[1:]))\n",
    "mapping = {letter: index for (index, letter) in enumerate(ALPHABET)}\n",
    "mapped_data = [mapping[v] for v in data]\n",
    "mapped_transitions = [(mapping[a], mapping[b]) for (a, b) in transitions]\n",
    "\n",
    "a = np.array([1.0/3, 1.0/3, 1.0/3])\n",
    "A = A = np.array([\n",
    "  [0.9, 0.05, 0.05],\n",
    "  [0.05, 0.9, 0.05],\n",
    "  [0.05, 0.05, 0.9]       \n",
    "])\n",
    "\n",
    "B = []\n",
    "for i in range(3):\n",
    "    this_B = np.random.uniform(0,1,7)\n",
    "    this_B = this_B / sum(this_B)\n",
    "    B.append(this_B)\n"
   ]
  },
  {
   "cell_type": "markdown",
   "metadata": {},
   "source": [
    "$ \\alpha(h_t) = p(h_t | v_{1:t}) = p(v_t | h_t) \\sum_{h_{t-1}} p(h_t | h_{t-1}) \\alpha(h_{t-1})  $\n",
    "\n",
    "with $\\alpha(h_1) = p(v_1 | h_1) p(h_1)$"
   ]
  },
  {
   "cell_type": "code",
   "execution_count": 220,
   "metadata": {
    "collapsed": false
   },
   "outputs": [],
   "source": [
    "def alpha(a, A, B, mapped_data):    \n",
    "    ans = []\n",
    "    for t in range(len(mapped_data)):\n",
    "        this_a = []\n",
    "        for i in range(len(a)):\n",
    "            p_v_given_h = B[i][mapped_data[t]]           \n",
    "            if t == 0:\n",
    "                p_h = a[i]\n",
    "                this_a.append(p_v_given_h * p_h)            \n",
    "            else: \n",
    "                #Sum over every previous value\n",
    "                p_h = 0\n",
    "                for j in range(len(ans[-1])):\n",
    "                    p_h += A[j][i] * ans[-1][j]           \n",
    "                this_a.append(p_v_given_h * p_h)         \n",
    "        ans.append(this_a)\n",
    "    return ans    "
   ]
  },
  {
   "cell_type": "markdown",
   "metadata": {},
   "source": [
    "$ \\beta(h_{t-1}) = \\sum_{h_t} p(v_t | h_t) p(h_t | h_{t-1}) \\beta(h_t) $  \n",
    "\n",
    "where\n",
    "\n",
    "$2 \\leq t \\leq T$\n",
    "\n",
    "and\n",
    "\n",
    "$\\beta(h_T) = 1 $"
   ]
  },
  {
   "cell_type": "code",
   "execution_count": null,
   "metadata": {
    "collapsed": true
   },
   "outputs": [],
   "source": [
    "def beta(a, A, B, mapped_data):\n",
    "    \n",
    "    ans = [[] for i in range(len(mapped_data))]\n",
    "    ans[-1] = [1,1,1]   \n",
    "    for t in range(-2, -len(mapped_data), -1):\n",
    "        for i in range(len(a)):\n",
    "            this_beta = 0\n",
    "            for j in range(len(ans[t])):\n",
    "                this_beta +=  B[j][mapped_data[t]] * A[j][i] * ans[t+1][j]\n",
    "            ans[t].append(this_beta)\n",
    "    return ans\n",
    "    "
   ]
  },
  {
   "cell_type": "markdown",
   "metadata": {},
   "source": [
    "\n",
    "$ \\gamma(h_t) = \\frac{\\alpha(h_t) \\beta(h_t)}{\\sum_{h_t} \\alpha(h_t) \\beta(h_t)} $"
   ]
  },
  {
   "cell_type": "code",
   "execution_count": null,
   "metadata": {
    "collapsed": true
   },
   "outputs": [],
   "source": [
    "def gamma(alpha_messages, beta_messages):\n",
    "    gamma = []\n",
    "    for i in range(len(alpha_messages)):\n",
    "        this_gamma = np.asarray(alpha_messages[i]) * np.asarray(beta_messages[i])\n",
    "        this_sum = 0\n",
    "        for j in range(len(alpha_messages[i])):\n",
    "            this_sum += alpha_messages[i][j] * beta_messages[i][j]\n",
    "        this_gamma = this_gamma/this_sum"
   ]
  },
  {
   "cell_type": "markdown",
   "metadata": {},
   "source": [
    "Pairwise marginals\n",
    "\n",
    "$ P(h_t, h_{t+1} | v_{1:T}) \\propto \\alpha(h_t) P(h_{t+1} | h_t) p(v_{t+1} | h_{t+1}) \\beta(h_{t+1}) $\n",
    "\n",
    "We'll make a matrix such that $M_{ij} = P(h_t = i, h_{t+1} = j | v_{1:T})$"
   ]
  },
  {
   "cell_type": "code",
   "execution_count": null,
   "metadata": {
    "collapsed": true
   },
   "outputs": [],
   "source": [
    "def pairwise_marginals(alpha_messages, beta_messages, mapped_data):\n",
    "    \n",
    "    ans = []\n",
    "    \n",
    "    for t in range(len(mapped_data)):\n",
    "        M = [ [] for i in range(3) ]\n",
    "        \n",
    "        ## Need to create a matrix for every pairwise marginal of combinations of possible values\n",
    "        ## for h_t and h_t+1\n",
    "        \n",
    "        ans.append(M)\n",
    "    "
   ]
  },
  {
   "cell_type": "markdown",
   "metadata": {},
   "source": [
    "The expectation step is simple if we have our alpha, beta, gamma, and pairwise marginals functions"
   ]
  },
  {
   "cell_type": "code",
   "execution_count": null,
   "metadata": {
    "collapsed": true
   },
   "outputs": [],
   "source": [
    "def E_step(a, A, B, mapped_data):\n",
    "    alpha_messages = alpha(a, A, B, mapped_data)\n",
    "    beta_messages = beta(a, A, B, mapped_data)\n",
    "    \n",
    "    return gamma(alpha_messages, beta_messages), \\\n",
    "            pairwise_marginals(alpha_messages, beta_messages, mapped_data)"
   ]
  }
 ],
 "metadata": {
  "kernelspec": {
   "display_name": "Python 2",
   "language": "python",
   "name": "python2"
  },
  "language_info": {
   "codemirror_mode": {
    "name": "ipython",
    "version": 2
   },
   "file_extension": ".py",
   "mimetype": "text/x-python",
   "name": "python",
   "nbconvert_exporter": "python",
   "pygments_lexer": "ipython2",
   "version": "2.7.10"
  }
 },
 "nbformat": 4,
 "nbformat_minor": 1
}
