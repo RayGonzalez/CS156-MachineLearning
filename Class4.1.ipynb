{
 "cells": [
  {
   "cell_type": "markdown",
   "metadata": {},
   "source": [
    "### Maximum Likelihood estimation of a Bernoulli distribution\n",
    "\n",
    "Suppose we have a random sample X1, X2,..., Xn where:\n",
    "\n",
    "  Xi = 0 if a randomly selected student does not eat meat, and\n",
    "  \n",
    "  Xi = 1 if a randomly selected student does eat meat.\n",
    "    \n",
    "Assuming that the Xi are independent Bernoulli random variables with unknown parameter p, derive the maximum likelihood estimator of p, the proportion of students who eat meat."
   ]
  },
  {
   "cell_type": "markdown",
   "metadata": {},
   "source": [
    "Let m be the observed number of meat eaters:\n",
    "\n",
    "$P(m | p) = {{n}\\choose{m}}p^m(1-p)^{n-m}$"
   ]
  },
  {
   "cell_type": "markdown",
   "metadata": {},
   "source": [
    "$\\frac{d}{dp}P(m|p) = {{n}\\choose{m}}(mp^{m-1}(1-p)^{n-m}  - p^m(n-m)(1-p)^{n-m-1} ) = 0 $"
   ]
  },
  {
   "cell_type": "markdown",
   "metadata": {},
   "source": [
    "$mp^{m-1}(1-p)^{n-m} =  p^m(n-m)(1-p)^{n-m-1}$"
   ]
  },
  {
   "cell_type": "markdown",
   "metadata": {},
   "source": [
    "$m(1-p) = p(n-m)$\n",
    "\n",
    "$m-mp = np - mp$\n",
    "\n",
    "$ m = np$\n",
    "\n",
    "$p = \\frac{m}{n}$"
   ]
  },
  {
   "cell_type": "markdown",
   "metadata": {},
   "source": [
    "### Maximum likelihood estimation for a normal distribution\n",
    "\n",
    "Derive the maximum likelihood estimate for a group of observations that is normally distributed but with unknown mean and variance. How does the maximum likelihood estimate compare to the standard estimates of an unknown mean and variance?"
   ]
  },
  {
   "cell_type": "markdown",
   "metadata": {},
   "source": [
    "$f(x_1,...,x_n | \\mu,\\sigma) = (\\frac{1}{\\sqrt{2\\pi}\\sigma})^ne^{-\\sum_{i=1}^n}\\frac{(x_i-\\mu)^2}{2\\sigma^2} $"
   ]
  },
  {
   "cell_type": "markdown",
   "metadata": {},
   "source": [
    "$ln(f(x_1,...,x_n | \\mu,\\sigma))  = -nln(\\sqrt{2\\pi})-nln(\\sigma) - \\sum_{i=1}^n\\frac{(x_i-\\mu)^2}{2\\sigma^2}$"
   ]
  },
  {
   "cell_type": "markdown",
   "metadata": {},
   "source": [
    "To get each parameter when likelihood is in a maximum, we equate the partial derivative with respect to each parameter to 0. Hence for the mean:"
   ]
  },
  {
   "cell_type": "markdown",
   "metadata": {},
   "source": [
    "$\\frac{\\delta f(x_1,...,x_n | \\mu,\\sigma)}{\\delta\\mu} = \\sum_{i=1}^n\\frac{(x_i-\\mu)^2}{\\sigma^2} =0$"
   ]
  },
  {
   "cell_type": "markdown",
   "metadata": {},
   "source": [
    "$\\sum_{i=1}^n x_i = n\\mu$"
   ]
  },
  {
   "cell_type": "markdown",
   "metadata": {},
   "source": [
    "$\\mu = \\bar{x}$"
   ]
  },
  {
   "cell_type": "markdown",
   "metadata": {},
   "source": [
    "Now for the standard deviation:\n",
    "\n",
    "$\\frac{\\delta f(x_1,...,x_n | \\mu,\\sigma)}{\\delta\\sigma} = - \\frac{n}{\\sigma} + \\sum_{i=1}^n\\frac{(x_i - \\mu)^2}{\\sigma^3} = 0$"
   ]
  },
  {
   "cell_type": "markdown",
   "metadata": {},
   "source": [
    "$\\sum_{i=1}^n\\frac{(x_i - \\mu)^2}{\\sigma^2} = n$"
   ]
  },
  {
   "cell_type": "markdown",
   "metadata": {},
   "source": [
    "$\\sigma^2 = \\frac{\\sum_{i=1}^n(x_i - \\mu)^2}{n}$"
   ]
  },
  {
   "cell_type": "markdown",
   "metadata": {},
   "source": [
    "Using $\\mu = \\bar{x}$ : "
   ]
  },
  {
   "cell_type": "markdown",
   "metadata": {},
   "source": [
    "$\\sigma^2 = \\frac{\\sum_{i=1}^n(x_i - \\bar{x})^2}{n}$"
   ]
  }
 ],
 "metadata": {
  "kernelspec": {
   "display_name": "Python 2",
   "language": "python",
   "name": "python2"
  },
  "language_info": {
   "codemirror_mode": {
    "name": "ipython",
    "version": 2
   },
   "file_extension": ".py",
   "mimetype": "text/x-python",
   "name": "python",
   "nbconvert_exporter": "python",
   "pygments_lexer": "ipython2",
   "version": "2.7.10"
  }
 },
 "nbformat": 4,
 "nbformat_minor": 1
}
